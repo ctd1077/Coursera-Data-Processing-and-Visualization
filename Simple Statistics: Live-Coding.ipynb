{
 "cells": [
  {
   "cell_type": "code",
   "execution_count": 1,
   "metadata": {},
   "outputs": [],
   "source": [
    "# Simple Statistics: Live-Coding"
   ]
  },
  {
   "cell_type": "code",
   "execution_count": 3,
   "metadata": {},
   "outputs": [],
   "source": [
    "import pandas as pd\n",
    "import gzip\n",
    "import csv\n",
    "import json"
   ]
  },
  {
   "cell_type": "code",
   "execution_count": 4,
   "metadata": {},
   "outputs": [],
   "source": [
    "path = 'amazon_reviews_us_Gift_Card_v1_00.tsv.gz'"
   ]
  },
  {
   "cell_type": "code",
   "execution_count": 5,
   "metadata": {},
   "outputs": [],
   "source": [
    "f = gzip.open(path, 'rt', encoding = 'utf8')"
   ]
  },
  {
   "cell_type": "code",
   "execution_count": 6,
   "metadata": {},
   "outputs": [],
   "source": [
    "dataset = []"
   ]
  },
  {
   "cell_type": "code",
   "execution_count": 7,
   "metadata": {},
   "outputs": [],
   "source": [
    "header = f.readline().strip().split('\\t')"
   ]
  },
  {
   "cell_type": "code",
   "execution_count": 8,
   "metadata": {},
   "outputs": [],
   "source": [
    "for line in f:\n",
    "    line = line.split('\\t')\n",
    "    d = dict(zip(header, line))\n",
    "    d['star_rating'] = int(d['star_rating'])\n",
    "    d['helpful_votes'] = int(d['helpful_votes'])                  \n",
    "    d['total_votes'] = int(d['total_votes'])                  \n",
    "    dataset.append(d)                  "
   ]
  },
  {
   "cell_type": "code",
   "execution_count": 9,
   "metadata": {},
   "outputs": [
    {
     "data": {
      "text/plain": [
       "{'marketplace': 'US',\n",
       " 'customer_id': '24371595',\n",
       " 'review_id': 'R27ZP1F1CD0C3Y',\n",
       " 'product_id': 'B004LLIL5A',\n",
       " 'product_parent': '346014806',\n",
       " 'product_title': 'Amazon eGift Card - Celebrate',\n",
       " 'product_category': 'Gift Card',\n",
       " 'star_rating': 5,\n",
       " 'helpful_votes': 0,\n",
       " 'total_votes': 0,\n",
       " 'vine': 'N',\n",
       " 'verified_purchase': 'Y',\n",
       " 'review_headline': 'Five Stars',\n",
       " 'review_body': 'Great birthday gift for a young adult.',\n",
       " 'review_date': '2015-08-31\\n'}"
      ]
     },
     "execution_count": 9,
     "metadata": {},
     "output_type": "execute_result"
    }
   ],
   "source": [
    "dataset[0]"
   ]
  },
  {
   "cell_type": "code",
   "execution_count": 10,
   "metadata": {},
   "outputs": [
    {
     "data": {
      "text/plain": [
       "149086"
      ]
     },
     "execution_count": 10,
     "metadata": {},
     "output_type": "execute_result"
    }
   ],
   "source": [
    "nRating = len(dataset)\n",
    "nRating"
   ]
  },
  {
   "cell_type": "code",
   "execution_count": 11,
   "metadata": {},
   "outputs": [],
   "source": [
    "average = 0\n",
    "for d in dataset:\n",
    "    average += d['star_rating']\n",
    "average /= nRating"
   ]
  },
  {
   "cell_type": "code",
   "execution_count": 12,
   "metadata": {},
   "outputs": [
    {
     "data": {
      "text/plain": [
       "4.73"
      ]
     },
     "execution_count": 12,
     "metadata": {},
     "output_type": "execute_result"
    }
   ],
   "source": [
    "round(average, 2)"
   ]
  },
  {
   "cell_type": "code",
   "execution_count": 13,
   "metadata": {},
   "outputs": [],
   "source": [
    "user = set()\n",
    "items = set()\n",
    "for d in dataset:\n",
    "    user.add(d['customer_id'])\n",
    "    items.add(d['product_id'])"
   ]
  },
  {
   "cell_type": "code",
   "execution_count": 18,
   "metadata": {},
   "outputs": [
    {
     "data": {
      "text/plain": [
       "(143181, 1780)"
      ]
     },
     "execution_count": 18,
     "metadata": {},
     "output_type": "execute_result"
    }
   ],
   "source": [
    "len(user), len(items)"
   ]
  },
  {
   "cell_type": "code",
   "execution_count": 20,
   "metadata": {},
   "outputs": [],
   "source": [
    "arVerified = 0\n",
    "arUnverified = 0\n",
    "nVerified = 0\n",
    "nUnverified = 0\n",
    "for d in dataset:\n",
    "    if d['verified_purchase'] == 'Y':\n",
    "        arVerified += d['star_rating']\n",
    "        nVerified += 1\n",
    "    else:\n",
    "        arUnverified += d['star_rating']\n",
    "        nUnverified += 1\n",
    "arVerified /= nVerified\n",
    "arUnverified /= nUnverified"
   ]
  },
  {
   "cell_type": "code",
   "execution_count": 22,
   "metadata": {},
   "outputs": [
    {
     "data": {
      "text/plain": [
       "(4.75, 4.58)"
      ]
     },
     "execution_count": 22,
     "metadata": {},
     "output_type": "execute_result"
    }
   ],
   "source": [
    "round(arVerified, 2), round(arUnverified, 2)"
   ]
  },
  {
   "cell_type": "code",
   "execution_count": 23,
   "metadata": {},
   "outputs": [],
   "source": [
    "# List Comprehension to accomplish the same task"
   ]
  },
  {
   "cell_type": "code",
   "execution_count": 28,
   "metadata": {},
   "outputs": [],
   "source": [
    "verifiedRatings = [d['star_rating'] for d in dataset if d['verified_purchase'] == 'Y']\n",
    "unverifiedRatings = [d['star_rating'] for d in dataset if d['verified_purchase'] == 'N']"
   ]
  },
  {
   "cell_type": "code",
   "execution_count": 29,
   "metadata": {},
   "outputs": [
    {
     "data": {
      "text/plain": [
       "(4.75, 4.58)"
      ]
     },
     "execution_count": 29,
     "metadata": {},
     "output_type": "execute_result"
    }
   ],
   "source": [
    "round(sum(verifiedRatings) * 1.0 / len(verifiedRatings), 2), round(sum(unverifiedRatings) * 1.0 / len(unverifiedRatings), 2)"
   ]
  }
 ],
 "metadata": {
  "kernelspec": {
   "display_name": "Python 3",
   "language": "python",
   "name": "python3"
  },
  "language_info": {
   "codemirror_mode": {
    "name": "ipython",
    "version": 3
   },
   "file_extension": ".py",
   "mimetype": "text/x-python",
   "name": "python",
   "nbconvert_exporter": "python",
   "pygments_lexer": "ipython3",
   "version": "3.6.8"
  }
 },
 "nbformat": 4,
 "nbformat_minor": 2
}
