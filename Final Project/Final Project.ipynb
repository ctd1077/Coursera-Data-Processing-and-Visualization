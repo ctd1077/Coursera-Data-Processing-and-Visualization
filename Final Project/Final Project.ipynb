{
 "cells": [
  {
   "cell_type": "code",
   "execution_count": 1,
   "metadata": {},
   "outputs": [],
   "source": [
    "# Final Project\n",
    "# Dataset choosen is Infectious Disease Cases by County, Year, and Sex\n",
    "# You can find more information about the dataset here:\n",
    "# https://data.chhs.ca.gov/dataset/infectious-disease-cases-by-county-year-and-sex"
   ]
  },
  {
   "cell_type": "code",
   "execution_count": 2,
   "metadata": {},
   "outputs": [],
   "source": [
    "from collections import defaultdict\n",
    "import matplotlib.pyplot as plt\n",
    "from matplotlib import colors\n",
    "import numpy as np\n",
    "import time\n",
    "import csv\n",
    "%matplotlib notebook"
   ]
  },
  {
   "cell_type": "code",
   "execution_count": 3,
   "metadata": {},
   "outputs": [],
   "source": [
    "path = r'/home/infectious-disease-cases-by-county-year-and-sex-2-27-19.csv'"
   ]
  },
  {
   "cell_type": "code",
   "execution_count": 4,
   "metadata": {},
   "outputs": [],
   "source": [
    "f = open(path, 'rt')"
   ]
  },
  {
   "cell_type": "code",
   "execution_count": 5,
   "metadata": {},
   "outputs": [],
   "source": [
    "reader = csv.reader(f, delimiter = ',')"
   ]
  },
  {
   "cell_type": "code",
   "execution_count": 6,
   "metadata": {},
   "outputs": [],
   "source": [
    "header = next(reader)"
   ]
  },
  {
   "cell_type": "code",
   "execution_count": 7,
   "metadata": {},
   "outputs": [
    {
     "data": {
      "text/plain": [
       "['Disease',\n",
       " 'County',\n",
       " 'Year',\n",
       " 'Sex',\n",
       " 'Count',\n",
       " 'Population',\n",
       " 'Rate',\n",
       " 'CI. lower',\n",
       " 'CI.upper',\n",
       " 'Unstable']"
      ]
     },
     "execution_count": 7,
     "metadata": {},
     "output_type": "execute_result"
    }
   ],
   "source": [
    "# Columns in the dataset\n",
    "header"
   ]
  },
  {
   "cell_type": "code",
   "execution_count": 8,
   "metadata": {},
   "outputs": [],
   "source": [
    "# Data Filtering and Cleaning"
   ]
  },
  {
   "cell_type": "code",
   "execution_count": 9,
   "metadata": {},
   "outputs": [],
   "source": [
    "# Frist create an empty dataset\n",
    "# reassign fields to INT or Float\n",
    "\n",
    "dataset = []\n",
    "\n",
    "for x in reader:\n",
    "    d = dict(zip(header, x))\n",
    "    for field in ['Year', 'Count', 'Population']:\n",
    "        d[field] = int(d[field])\n",
    "    for field in ['Rate', 'CI. lower', 'CI.upper']:\n",
    "        d[field] = float(d[field])\n",
    "    dataset.append(d)"
   ]
  },
  {
   "cell_type": "code",
   "execution_count": 10,
   "metadata": {},
   "outputs": [
    {
     "data": {
      "text/plain": [
       "132927"
      ]
     },
     "execution_count": 10,
     "metadata": {},
     "output_type": "execute_result"
    }
   ],
   "source": [
    "# Check the len of the new dataset\n",
    "len(dataset)"
   ]
  },
  {
   "cell_type": "code",
   "execution_count": 11,
   "metadata": {},
   "outputs": [
    {
     "data": {
      "text/plain": [
       "{'Disease': 'Amebiasis',\n",
       " 'County': 'Solano',\n",
       " 'Year': 2005,\n",
       " 'Sex': 'Total',\n",
       " 'Count': 0,\n",
       " 'Population': 410570,\n",
       " 'Rate': 0.0,\n",
       " 'CI. lower': 0.0,\n",
       " 'CI.upper': 0.898,\n",
       " 'Unstable': '-'}"
      ]
     },
     "execution_count": 11,
     "metadata": {},
     "output_type": "execute_result"
    }
   ],
   "source": [
    "# View smaple of first entry in dataset\n",
    "dataset[0]"
   ]
  },
  {
   "cell_type": "code",
   "execution_count": 12,
   "metadata": {},
   "outputs": [],
   "source": [
    "# I only want to see the last 10 years of data collected\n",
    "dataset = [d for d in dataset if d['Year'] >= 2006]"
   ]
  },
  {
   "cell_type": "code",
   "execution_count": 13,
   "metadata": {},
   "outputs": [],
   "source": [
    "# Filter new dataset by small towns / under 10 thousand in population\n",
    "smallTowns = [d for d in dataset if d['Population'] <= 10000]"
   ]
  },
  {
   "cell_type": "code",
   "execution_count": 14,
   "metadata": {},
   "outputs": [
    {
     "data": {
      "text/plain": [
       "{'Disease': 'Amebiasis',\n",
       " 'County': 'Mono',\n",
       " 'Year': 2015,\n",
       " 'Sex': 'Male',\n",
       " 'Count': 0,\n",
       " 'Population': 7253,\n",
       " 'Rate': 0.0,\n",
       " 'CI. lower': 0.0,\n",
       " 'CI.upper': 50.847,\n",
       " 'Unstable': '-'}"
      ]
     },
     "execution_count": 14,
     "metadata": {},
     "output_type": "execute_result"
    }
   ],
   "source": [
    "# Check new dataset\n",
    "smallTowns[0]"
   ]
  },
  {
   "cell_type": "code",
   "execution_count": 15,
   "metadata": {},
   "outputs": [],
   "source": [
    "# Filter new dataset by large cities / over a millon in popualtion\n",
    "largeCities = [d for d in dataset if d['Population'] >= 1000000]"
   ]
  },
  {
   "cell_type": "code",
   "execution_count": 16,
   "metadata": {},
   "outputs": [
    {
     "data": {
      "text/plain": [
       "{'Disease': 'Amebiasis',\n",
       " 'County': 'Los Angeles',\n",
       " 'Year': 2014,\n",
       " 'Sex': 'Female',\n",
       " 'Count': 17,\n",
       " 'Population': 5127242,\n",
       " 'Rate': 0.332,\n",
       " 'CI. lower': 0.193,\n",
       " 'CI.upper': 0.531,\n",
       " 'Unstable': '*'}"
      ]
     },
     "execution_count": 16,
     "metadata": {},
     "output_type": "execute_result"
    }
   ],
   "source": [
    "# Check new dataset\n",
    "largeCities[0]"
   ]
  },
  {
   "cell_type": "code",
   "execution_count": 17,
   "metadata": {},
   "outputs": [],
   "source": [
    "# Separate male and female count totals to find total number of men infected \n",
    "# vs female. This could also be use to show totals on individual disease\n",
    "\n",
    "male = [d for d in dataset if d['Sex'] == 'Male']\n",
    "female = [d for d in dataset if d['Sex'] == 'Female']\n",
    "\n",
    "maleCount = 0\n",
    "femaleCount = 0\n",
    "for x in male:\n",
    "    maleCount += x['Count']\n",
    "\n",
    "for x in female:\n",
    "    femaleCount += x['Count']"
   ]
  },
  {
   "cell_type": "code",
   "execution_count": 18,
   "metadata": {},
   "outputs": [
    {
     "name": "stdout",
     "output_type": "stream",
     "text": [
      "782795\n",
      "453444\n"
     ]
    }
   ],
   "source": [
    "# As you can see a large number of men infected\n",
    "print(maleCount)\n",
    "print(femaleCount)"
   ]
  },
  {
   "cell_type": "code",
   "execution_count": 19,
   "metadata": {},
   "outputs": [
    {
     "data": {
      "text/plain": [
       "<BarContainer object of 1 artists>"
      ]
     },
     "execution_count": 19,
     "metadata": {},
     "output_type": "execute_result"
    },
    {
     "data": {
      "image/png": "[encoded data removed]",
      "text/plain": [
       "<Figure size 432x288 with 1 Axes>"
      ]
     },
     "metadata": {
      "needs_background": "light"
     },
     "output_type": "display_data"
    }
   ],
   "source": [
    "# Same number shown in a bar chart\n",
    "alpha_color = 0.5\n",
    "x = ['Male', 'Female']\n",
    "plt.bar(x[0], maleCount, color='blue', alpha=alpha_color)\n",
    "plt.bar(x[1], femaleCount, color='pink', alpha=alpha_color)"
   ]
  },
  {
   "cell_type": "code",
   "execution_count": 20,
   "metadata": {},
   "outputs": [],
   "source": [
    "# Let try the same thing but fouce on one disease (HIV) and use another\n",
    "# bar plot to show the difference between men and women count totals"
   ]
  },
  {
   "cell_type": "code",
   "execution_count": 21,
   "metadata": {},
   "outputs": [],
   "source": [
    "male2 = [d for d in male if d['Disease'] == 'HIV']\n",
    "female2 = [d for d in female if d['Disease'] == 'HIV']"
   ]
  },
  {
   "cell_type": "code",
   "execution_count": 22,
   "metadata": {},
   "outputs": [],
   "source": [
    "male2Count = 0\n",
    "female2Count = 0\n",
    "for x in male2:\n",
    "    male2Count += x['Count']\n",
    "\n",
    "for x in female2:\n",
    "    female2Count += x['Count']"
   ]
  },
  {
   "cell_type": "code",
   "execution_count": 23,
   "metadata": {},
   "outputs": [
    {
     "name": "stdout",
     "output_type": "stream",
     "text": [
      "94875\n",
      "13098\n"
     ]
    }
   ],
   "source": [
    "# The number of men affected is much higher than women\n",
    "print(male2Count)\n",
    "print(female2Count)"
   ]
  },
  {
   "cell_type": "code",
   "execution_count": 24,
   "metadata": {},
   "outputs": [
    {
     "data": {
      "text/plain": [
       "<BarContainer object of 1 artists>"
      ]
     },
     "execution_count": 24,
     "metadata": {},
     "output_type": "execute_result"
    },
    {
     "data": {
      "image/png": "[encoded data removed]",
      "text/plain": [
       "<Figure size 432x288 with 1 Axes>"
      ]
     },
     "metadata": {
      "needs_background": "light"
     },
     "output_type": "display_data"
    }
   ],
   "source": [
    "# Same number shown in a bar chart\n",
    "alpha_color = 0.5\n",
    "x = ['Male', 'Female']\n",
    "plt.bar(x[0], male2Count, color='blue', alpha=alpha_color)\n",
    "plt.bar(x[1], female2Count, color='pink', alpha=alpha_color)"
   ]
  },
  {
   "cell_type": "code",
   "execution_count": 25,
   "metadata": {},
   "outputs": [],
   "source": [
    "# This function takes a dataset and creates a defaultdict to average\n",
    "# the rates by year for Amebiasis\n",
    "def amebiasisRates(ds):\n",
    "    ds = [d for d in ds if d['Disease'] == 'Amebiasis']\n",
    "    count = {2006: 0, 2007: 0, 2008: 0, 2009: 0, 2010: 0, 2011: 0, 2012: 0, 2013: 0, 2014: 0, 2015: 0}\n",
    "    count = defaultdict(int)\n",
    "    \n",
    "    for d in ds:\n",
    "        count[d['Year']] += d['Count']\n",
    "    \n",
    "    return count"
   ]
  },
  {
   "cell_type": "code",
   "execution_count": 26,
   "metadata": {},
   "outputs": [],
   "source": [
    "# This function takes a dataset and creates a defaultdict to average\n",
    "# the rates by year for Malaria\n",
    "def malariaRates(ds):\n",
    "    ds = [d for d in ds if d['Disease'] == 'Malaria']\n",
    "    count = {2006: 0, 2007: 0, 2008: 0, 2009: 0, 2010: 0, 2011: 0, 2012: 0, 2013: 0, 2014: 0, 2015: 0}\n",
    "    count = defaultdict(int)\n",
    "    \n",
    "    for d in ds:\n",
    "        count[d['Year']] += d['Rate']\n",
    "    \n",
    "    return count"
   ]
  },
  {
   "cell_type": "code",
   "execution_count": 27,
   "metadata": {},
   "outputs": [],
   "source": [
    "# This function takes a dataset and creates a defaultdict to average\n",
    "# the rates by year for Hepatitis C\n",
    "def hepatitisRates(ds):\n",
    "    ds = [d for d in ds if d['Disease'] == 'Hepatitis C, Chronic']\n",
    "    count = {2006: 0, 2007: 0, 2008: 0, 2009: 0, 2010: 0, 2011: 0, 2012: 0, 2013: 0, 2014: 0, 2015: 0}\n",
    "    count = defaultdict(int)\n",
    "    \n",
    "    for d in ds:\n",
    "        count[d['Year']] += d['Rate']\n",
    "    \n",
    "    return count"
   ]
  },
  {
   "cell_type": "code",
   "execution_count": 28,
   "metadata": {},
   "outputs": [
    {
     "data": {
      "text/plain": [
       "[<matplotlib.lines.Line2D at 0x7f20b5feb5f8>]"
      ]
     },
     "execution_count": 28,
     "metadata": {},
     "output_type": "execute_result"
    },
    {
     "data": {
      "image/png": "[encoded data removed]",
      "text/plain": [
       "<Figure size 432x288 with 1 Axes>"
      ]
     },
     "metadata": {
      "needs_background": "light"
     },
     "output_type": "display_data"
    }
   ],
   "source": [
    "# Line Chart\n",
    "# This visual show the number of people infected by year.\n",
    "# You can replace the module in X and Y to show different diseases\n",
    "# or change the agruement to show small or large cities.\n",
    "# you can also show the whole dataset\n",
    "\n",
    "X = list(amebiasisRates(largeCities).keys())\n",
    "Y = list(amebiasisRates(largeCities).values())\n",
    "X = sorted(X)\n",
    "\n",
    "plt.gca().set(xlabel='Years', ylabel='Number infected',\n",
    "       title='Number of people infected by year')\n",
    "plt.grid()\n",
    "\n",
    "# Show the plot of Rings vs Number of Abalones\n",
    "plt.plot(X, Y)"
   ]
  },
  {
   "cell_type": "code",
   "execution_count": 29,
   "metadata": {},
   "outputs": [
    {
     "data": {
      "text/plain": [
       "<BarContainer object of 10 artists>"
      ]
     },
     "execution_count": 29,
     "metadata": {},
     "output_type": "execute_result"
    },
    {
     "data": {
      "image/png": "[encoded data removed]",
      "text/plain": [
       "<Figure size 432x288 with 1 Axes>"
      ]
     },
     "metadata": {
      "needs_background": "light"
     },
     "output_type": "display_data"
    }
   ],
   "source": [
    "# Bar Chart\n",
    "# This visual show the number of people infected by year.\n",
    "# You can replace the module in X and Y to show different diseases\n",
    "# or change the agruement to show small or large cities.\n",
    "# you can also show the whole dataset\n",
    "\n",
    "# Can tell the dataset is missing informatio in this char\n",
    "\n",
    "\n",
    "X = list(hepatitisRates(smallTowns).keys())\n",
    "Y = list(hepatitisRates(smallTowns).values())\n",
    "plt.gca().set(xlabel='Years', ylabel='Number infected',\n",
    "       title='Number of people infected by year')\n",
    "plt.grid()\n",
    "plt.bar(X, Y)"
   ]
  },
  {
   "cell_type": "code",
   "execution_count": 30,
   "metadata": {},
   "outputs": [
    {
     "data": {
      "text/plain": [
       "defaultdict(int,\n",
       "            {2006: 1153.146,\n",
       "             2008: 1559.368,\n",
       "             2007: 2065.466,\n",
       "             2014: 0.0,\n",
       "             2010: 929.8510000000001,\n",
       "             2012: 994.4529999999999,\n",
       "             2011: 945.5349999999999,\n",
       "             2013: 1623.448,\n",
       "             2009: 1215.028,\n",
       "             2015: 0.0})"
      ]
     },
     "execution_count": 30,
     "metadata": {},
     "output_type": "execute_result"
    }
   ],
   "source": [
    "# you can see the missing information from 2014 and 2015\n",
    "hepatitisRates(smallTowns)"
   ]
  }
 ],
 "metadata": {
  "kernelspec": {
   "display_name": "Python 3",
   "language": "python",
   "name": "python3"
  },
  "language_info": {
   "codemirror_mode": {
    "name": "ipython",
    "version": 3
   },
   "file_extension": ".py",
   "mimetype": "text/x-python",
   "name": "python",
   "nbconvert_exporter": "python",
   "pygments_lexer": "ipython3",
   "version": "3.6.8"
  }
 },
 "nbformat": 4,
 "nbformat_minor": 2
}
